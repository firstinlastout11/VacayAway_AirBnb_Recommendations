{
 "cells": [
  {
   "cell_type": "markdown",
   "metadata": {},
   "source": [
    "This notebook describes the full Pipeline of operations involved in the system.\n",
    "\n",
    "1. User inputs relevant information from Tableau, including search string and feature weights\n",
    "2. HomeAway API scraped from search string to provide listings corpus\n",
    "3. Complete Feature Vector for each listing\n",
    "    - A: Yelp scores for User-Selected Categories (USCs) calculated for each listing and appended to feature vector\n",
    "    - B: Crime scores calculated for each listing and appended to feature vector\n",
    "4. Comprehensive criteria-based listing scoring\n",
    "5. Tableau recives scored listings corpus, ranks and displays listings on maps"
   ]
  },
  {
   "cell_type": "markdown",
   "metadata": {},
   "source": [
    "### 1: Tableau User Input\n",
    "\n",
    "- A field for a user's search string is displayed. Presently, the only available location that can be input into the search string is any variation of \"Atlanta, GA\"\n",
    "- 2 Date selectors will allow the user to choose start and end dates. \n",
    "- 3 sets of 2 Drop-downs each will be present for the user to select 3 preferred sets of a Primary Supercategory and a Secondary Subcategory. For example, a Primary Supercategory could be \"Food\", and a Secondary Subcategory for the Primary Supercategory could be \"Italian\". These 3 sets represent the 3 User-Selected Categories (USCs).\n",
    "- Sliders will be present for the user to select weights (1 = not important  -- 5 = very important) for how much they care about each of the following criteria:\n",
    "    - Cost\n",
    "    - User ratings\n",
    "    - Crime rate\n",
    "    - USC1\n",
    "    - USC2\n",
    "    - USC3\n",
    "    \n",
    "- If the user does not touch a slider, they will be set to default values.\n",
    "\n",
    "**Outputs**\n",
    "- user search string + dates (USS)\n",
    "- USC1\n",
    "- USC2\n",
    "- USC3\n",
    "- user weights (UW)"
   ]
  },
  {
   "cell_type": "markdown",
   "metadata": {},
   "source": [
    "### 2: HomeAway API Scraping\n",
    "\n",
    "The HomeAway API is scraped using the USS to obtain a corpus of HomeAway listings matching the USS provided.\n",
    "\n",
    "**Outputs**\n",
    "- Listings Corpus (LC)"
   ]
  },
  {
   "cell_type": "markdown",
   "metadata": {},
   "source": [
    "### 3: Complete Feature Vector\n",
    "\n",
    "#### 3A: Yelp Scores for USCs\n",
    "\n",
    "Business data scraped from Yelp is stored in a PostgreSQL database hosted on AWS. A Python script uses this service to calculate the distance scores for each USC. Each USC distance score is appended to the LC.\n",
    "\n",
    "**Outputs**\n",
    "- LC with appended USC scores\n",
    "\n",
    "#### 3B: Crime Data Scoring\n",
    "\n",
    "Crime Data previously scraped and stored is used to calculate a Crime Score for each listing in the LC based on crime intensity and distance to listing. Crime scores are appended to the LC.\n",
    "\n",
    "**Outputs**\n",
    "- LC with appended Crime scores"
   ]
  },
  {
   "cell_type": "markdown",
   "metadata": {},
   "source": [
    "### 4: Criteria-based Scoring\n",
    "\n",
    "Now that the feature vector is complete for each LC, the final Score for each listing is computed by taking a weighted sum of all appropriate fields, where the weights are supplied from UW.\n",
    "\n",
    "**Outputs**\n",
    "- LC with appended final Scores"
   ]
  },
  {
   "cell_type": "markdown",
   "metadata": {},
   "source": [
    "### 5: Final Tableau Visualization\n",
    "\n",
    "The scored LC is sent to Tableau, which shows the ranked listings on one side and a visual map of the listings on the other. Other pertinent information can be visualized at this time."
   ]
  }
 ],
 "metadata": {
  "kernelspec": {
   "display_name": "Python 3",
   "language": "python",
   "name": "python3"
  },
  "language_info": {
   "codemirror_mode": {
    "name": "ipython",
    "version": 3
   },
   "file_extension": ".py",
   "mimetype": "text/x-python",
   "name": "python",
   "nbconvert_exporter": "python",
   "pygments_lexer": "ipython3",
   "version": "3.6.5"
  }
 },
 "nbformat": 4,
 "nbformat_minor": 2
}
