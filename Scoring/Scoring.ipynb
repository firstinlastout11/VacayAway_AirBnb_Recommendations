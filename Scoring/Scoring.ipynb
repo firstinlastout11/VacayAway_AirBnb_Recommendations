{
 "cells": [
  {
   "cell_type": "markdown",
   "metadata": {},
   "source": [
    "This notebook contains the code and rationale for obtaining a **score** for each listing based on the relevant feature vector.\n",
    "\n",
    "\n",
    "**UNDER CONSTRUCTION!!**"
   ]
  },
  {
   "cell_type": "markdown",
   "metadata": {},
   "source": [
    "The final feature vector **used only for calculation** contains the following fields:\n",
    "\n",
    "**HomeAway**\n",
    "- `$listingId`\n",
    "- `$priceRent`\n",
    "- `$reviewCount`\n",
    "- `$reviewAverage`\n",
    "\n",
    "**Crime Data**\n",
    "- `$crimeScore`\n",
    "\n",
    "**Yelp**\n",
    "- `$uc1` - User-selected Category 1\n",
    "- `$uc2` - User-selected Category 2\n",
    "- `$uc3` - User-selected Category 3"
   ]
  },
  {
   "cell_type": "markdown",
   "metadata": {},
   "source": [
    "For the purpose of testing, a test case feature vector with these features will be created below."
   ]
  },
  {
   "cell_type": "code",
   "execution_count": 1,
   "metadata": {},
   "outputs": [],
   "source": [
    "# Imports\n",
    "import pandas as pd\n"
   ]
  },
  {
   "cell_type": "code",
   "execution_count": 58,
   "metadata": {},
   "outputs": [],
   "source": [
    "## Create test case\n",
    "# Create test case feature vector\n",
    "features = pd.DataFrame(index = [0], \n",
    "                        data = {\n",
    "                            \"listingId\": 7512702,\n",
    "                            \"priceRent\": 1150,\n",
    "                            \"reviewCount\": 19,\n",
    "                            \"reviewAverage\": 4.7894735,\n",
    "                            \"crimeScore\": -1,\n",
    "                            \"uc1\": 5,\n",
    "                            \"uc2\": 9,\n",
    "                            \"uc3\": 4\n",
    "                        })\n",
    "features = features.append(features.iloc[0] + 10)\n",
    "features = features.append(features.iloc[0] - 3)\n",
    "\n",
    "# Create test case weight vector\n",
    "weights = pd.DataFrame(index = [0],\n",
    "                      data = {\n",
    "                          'priceRent': 5,\n",
    "                          'ratingScore': 5,\n",
    "                          'crimeScore': 5,\n",
    "                          'uc1': 3,\n",
    "                          'uc2': 5,\n",
    "                          'uc3': 2\n",
    "                      })"
   ]
  },
  {
   "cell_type": "code",
   "execution_count": 59,
   "metadata": {},
   "outputs": [
    {
     "data": {
      "text/html": [
       "<div>\n",
       "<style scoped>\n",
       "    .dataframe tbody tr th:only-of-type {\n",
       "        vertical-align: middle;\n",
       "    }\n",
       "\n",
       "    .dataframe tbody tr th {\n",
       "        vertical-align: top;\n",
       "    }\n",
       "\n",
       "    .dataframe thead th {\n",
       "        text-align: right;\n",
       "    }\n",
       "</style>\n",
       "<table border=\"1\" class=\"dataframe\">\n",
       "  <thead>\n",
       "    <tr style=\"text-align: right;\">\n",
       "      <th></th>\n",
       "      <th>listingId</th>\n",
       "      <th>priceRent</th>\n",
       "      <th>reviewCount</th>\n",
       "      <th>reviewAverage</th>\n",
       "      <th>crimeScore</th>\n",
       "      <th>uc1</th>\n",
       "      <th>uc2</th>\n",
       "      <th>uc3</th>\n",
       "    </tr>\n",
       "  </thead>\n",
       "  <tbody>\n",
       "    <tr>\n",
       "      <th>0</th>\n",
       "      <td>7512702.0</td>\n",
       "      <td>1150.0</td>\n",
       "      <td>19.0</td>\n",
       "      <td>4.789473</td>\n",
       "      <td>-1.0</td>\n",
       "      <td>5.0</td>\n",
       "      <td>9.0</td>\n",
       "      <td>4.0</td>\n",
       "    </tr>\n",
       "    <tr>\n",
       "      <th>0</th>\n",
       "      <td>7512712.0</td>\n",
       "      <td>1160.0</td>\n",
       "      <td>29.0</td>\n",
       "      <td>14.789473</td>\n",
       "      <td>9.0</td>\n",
       "      <td>15.0</td>\n",
       "      <td>19.0</td>\n",
       "      <td>14.0</td>\n",
       "    </tr>\n",
       "    <tr>\n",
       "      <th>0</th>\n",
       "      <td>7512699.0</td>\n",
       "      <td>1147.0</td>\n",
       "      <td>16.0</td>\n",
       "      <td>1.789473</td>\n",
       "      <td>-4.0</td>\n",
       "      <td>2.0</td>\n",
       "      <td>6.0</td>\n",
       "      <td>1.0</td>\n",
       "    </tr>\n",
       "  </tbody>\n",
       "</table>\n",
       "</div>"
      ],
      "text/plain": [
       "   listingId  priceRent  reviewCount  reviewAverage  crimeScore   uc1   uc2  \\\n",
       "0  7512702.0     1150.0         19.0       4.789473        -1.0   5.0   9.0   \n",
       "0  7512712.0     1160.0         29.0      14.789473         9.0  15.0  19.0   \n",
       "0  7512699.0     1147.0         16.0       1.789473        -4.0   2.0   6.0   \n",
       "\n",
       "    uc3  \n",
       "0   4.0  \n",
       "0  14.0  \n",
       "0   1.0  "
      ]
     },
     "execution_count": 59,
     "metadata": {},
     "output_type": "execute_result"
    }
   ],
   "source": [
    "features"
   ]
  },
  {
   "cell_type": "code",
   "execution_count": 51,
   "metadata": {},
   "outputs": [
    {
     "data": {
      "text/html": [
       "<div>\n",
       "<style scoped>\n",
       "    .dataframe tbody tr th:only-of-type {\n",
       "        vertical-align: middle;\n",
       "    }\n",
       "\n",
       "    .dataframe tbody tr th {\n",
       "        vertical-align: top;\n",
       "    }\n",
       "\n",
       "    .dataframe thead th {\n",
       "        text-align: right;\n",
       "    }\n",
       "</style>\n",
       "<table border=\"1\" class=\"dataframe\">\n",
       "  <thead>\n",
       "    <tr style=\"text-align: right;\">\n",
       "      <th></th>\n",
       "      <th>priceRent</th>\n",
       "      <th>ratingScore</th>\n",
       "      <th>crimeScore</th>\n",
       "      <th>uc1</th>\n",
       "      <th>uc2</th>\n",
       "      <th>uc3</th>\n",
       "    </tr>\n",
       "  </thead>\n",
       "  <tbody>\n",
       "    <tr>\n",
       "      <th>0</th>\n",
       "      <td>5</td>\n",
       "      <td>5</td>\n",
       "      <td>5</td>\n",
       "      <td>3</td>\n",
       "      <td>5</td>\n",
       "      <td>2</td>\n",
       "    </tr>\n",
       "  </tbody>\n",
       "</table>\n",
       "</div>"
      ],
      "text/plain": [
       "   priceRent  ratingScore  crimeScore  uc1  uc2  uc3\n",
       "0          5            5           5    3    5    2"
      ]
     },
     "execution_count": 51,
     "metadata": {},
     "output_type": "execute_result"
    }
   ],
   "source": [
    "weights"
   ]
  },
  {
   "cell_type": "markdown",
   "metadata": {},
   "source": [
    "Interesting reddit on normalizing product review ratings: https://www.reddit.com/r/statistics/comments/4svy2e/how_would_i_normalize_product_review_ratings/"
   ]
  },
  {
   "cell_type": "code",
   "execution_count": 60,
   "metadata": {},
   "outputs": [],
   "source": [
    "# Normalize review ratings from review count and review average using a ?Beta Distribution?\n",
    "prior_alpha = 3\n",
    "prior_beta = 2\n",
    "\n",
    "features['ratingScore'] = ((prior_alpha + (features['reviewCount'] * (features['reviewAverage']/5))) / (prior_beta + prior_alpha + features['reviewCount']))"
   ]
  },
  {
   "cell_type": "code",
   "execution_count": 61,
   "metadata": {},
   "outputs": [
    {
     "data": {
      "text/html": [
       "<div>\n",
       "<style scoped>\n",
       "    .dataframe tbody tr th:only-of-type {\n",
       "        vertical-align: middle;\n",
       "    }\n",
       "\n",
       "    .dataframe tbody tr th {\n",
       "        vertical-align: top;\n",
       "    }\n",
       "\n",
       "    .dataframe thead th {\n",
       "        text-align: right;\n",
       "    }\n",
       "</style>\n",
       "<table border=\"1\" class=\"dataframe\">\n",
       "  <thead>\n",
       "    <tr style=\"text-align: right;\">\n",
       "      <th></th>\n",
       "      <th>listingId</th>\n",
       "      <th>priceRent</th>\n",
       "      <th>reviewCount</th>\n",
       "      <th>reviewAverage</th>\n",
       "      <th>crimeScore</th>\n",
       "      <th>uc1</th>\n",
       "      <th>uc2</th>\n",
       "      <th>uc3</th>\n",
       "      <th>ratingScore</th>\n",
       "    </tr>\n",
       "  </thead>\n",
       "  <tbody>\n",
       "    <tr>\n",
       "      <th>0</th>\n",
       "      <td>7512702.0</td>\n",
       "      <td>1150.0</td>\n",
       "      <td>19.0</td>\n",
       "      <td>4.789473</td>\n",
       "      <td>-1.0</td>\n",
       "      <td>5.0</td>\n",
       "      <td>9.0</td>\n",
       "      <td>4.0</td>\n",
       "      <td>0.883333</td>\n",
       "    </tr>\n",
       "    <tr>\n",
       "      <th>0</th>\n",
       "      <td>7512712.0</td>\n",
       "      <td>1160.0</td>\n",
       "      <td>29.0</td>\n",
       "      <td>14.789473</td>\n",
       "      <td>9.0</td>\n",
       "      <td>15.0</td>\n",
       "      <td>19.0</td>\n",
       "      <td>14.0</td>\n",
       "      <td>2.611145</td>\n",
       "    </tr>\n",
       "    <tr>\n",
       "      <th>0</th>\n",
       "      <td>7512699.0</td>\n",
       "      <td>1147.0</td>\n",
       "      <td>16.0</td>\n",
       "      <td>1.789473</td>\n",
       "      <td>-4.0</td>\n",
       "      <td>2.0</td>\n",
       "      <td>6.0</td>\n",
       "      <td>1.0</td>\n",
       "      <td>0.415539</td>\n",
       "    </tr>\n",
       "  </tbody>\n",
       "</table>\n",
       "</div>"
      ],
      "text/plain": [
       "   listingId  priceRent  reviewCount  reviewAverage  crimeScore   uc1   uc2  \\\n",
       "0  7512702.0     1150.0         19.0       4.789473        -1.0   5.0   9.0   \n",
       "0  7512712.0     1160.0         29.0      14.789473         9.0  15.0  19.0   \n",
       "0  7512699.0     1147.0         16.0       1.789473        -4.0   2.0   6.0   \n",
       "\n",
       "    uc3  ratingScore  \n",
       "0   4.0     0.883333  \n",
       "0  14.0     2.611145  \n",
       "0   1.0     0.415539  "
      ]
     },
     "execution_count": 61,
     "metadata": {},
     "output_type": "execute_result"
    }
   ],
   "source": [
    "features"
   ]
  },
  {
   "cell_type": "code",
   "execution_count": 65,
   "metadata": {},
   "outputs": [
    {
     "data": {
      "text/html": [
       "<div>\n",
       "<style scoped>\n",
       "    .dataframe tbody tr th:only-of-type {\n",
       "        vertical-align: middle;\n",
       "    }\n",
       "\n",
       "    .dataframe tbody tr th {\n",
       "        vertical-align: top;\n",
       "    }\n",
       "\n",
       "    .dataframe thead th {\n",
       "        text-align: right;\n",
       "    }\n",
       "</style>\n",
       "<table border=\"1\" class=\"dataframe\">\n",
       "  <thead>\n",
       "    <tr style=\"text-align: right;\">\n",
       "      <th></th>\n",
       "      <th>listingId</th>\n",
       "      <th>priceRent</th>\n",
       "      <th>crimeScore</th>\n",
       "      <th>uc1</th>\n",
       "      <th>uc2</th>\n",
       "      <th>uc3</th>\n",
       "      <th>ratingScore</th>\n",
       "    </tr>\n",
       "  </thead>\n",
       "  <tbody>\n",
       "    <tr>\n",
       "      <th>0</th>\n",
       "      <td>7512702.0</td>\n",
       "      <td>1150.0</td>\n",
       "      <td>-1.0</td>\n",
       "      <td>5.0</td>\n",
       "      <td>9.0</td>\n",
       "      <td>4.0</td>\n",
       "      <td>0.883333</td>\n",
       "    </tr>\n",
       "    <tr>\n",
       "      <th>0</th>\n",
       "      <td>7512712.0</td>\n",
       "      <td>1160.0</td>\n",
       "      <td>9.0</td>\n",
       "      <td>15.0</td>\n",
       "      <td>19.0</td>\n",
       "      <td>14.0</td>\n",
       "      <td>2.611145</td>\n",
       "    </tr>\n",
       "    <tr>\n",
       "      <th>0</th>\n",
       "      <td>7512699.0</td>\n",
       "      <td>1147.0</td>\n",
       "      <td>-4.0</td>\n",
       "      <td>2.0</td>\n",
       "      <td>6.0</td>\n",
       "      <td>1.0</td>\n",
       "      <td>0.415539</td>\n",
       "    </tr>\n",
       "  </tbody>\n",
       "</table>\n",
       "</div>"
      ],
      "text/plain": [
       "   listingId  priceRent  crimeScore   uc1   uc2   uc3  ratingScore\n",
       "0  7512702.0     1150.0        -1.0   5.0   9.0   4.0     0.883333\n",
       "0  7512712.0     1160.0         9.0  15.0  19.0  14.0     2.611145\n",
       "0  7512699.0     1147.0        -4.0   2.0   6.0   1.0     0.415539"
      ]
     },
     "execution_count": 65,
     "metadata": {},
     "output_type": "execute_result"
    }
   ],
   "source": [
    "features = features.drop(['reviewCount', 'reviewAverage'], axis=1)\n",
    "features"
   ]
  },
  {
   "cell_type": "code",
   "execution_count": 71,
   "metadata": {},
   "outputs": [],
   "source": [
    "# Scoring Algorithm\n",
    "\n",
    "features['finalScore'] = 0 # instantiate scoring algorithm\n",
    "\n",
    "for col in weights.columns:\n",
    "    features['finalScore'] = features['finalScore'] + (weights[col] * features[col]) # weighted sum"
   ]
  },
  {
   "cell_type": "code",
   "execution_count": 75,
   "metadata": {},
   "outputs": [],
   "source": [
    "# Sort listings by `finalScore`\n",
    "features = features.sort_values(by=['finalScore'], ascending=False)"
   ]
  },
  {
   "cell_type": "code",
   "execution_count": 78,
   "metadata": {},
   "outputs": [
    {
     "data": {
      "text/html": [
       "<div>\n",
       "<style scoped>\n",
       "    .dataframe tbody tr th:only-of-type {\n",
       "        vertical-align: middle;\n",
       "    }\n",
       "\n",
       "    .dataframe tbody tr th {\n",
       "        vertical-align: top;\n",
       "    }\n",
       "\n",
       "    .dataframe thead th {\n",
       "        text-align: right;\n",
       "    }\n",
       "</style>\n",
       "<table border=\"1\" class=\"dataframe\">\n",
       "  <thead>\n",
       "    <tr style=\"text-align: right;\">\n",
       "      <th></th>\n",
       "      <th>listingId</th>\n",
       "      <th>priceRent</th>\n",
       "      <th>crimeScore</th>\n",
       "      <th>uc1</th>\n",
       "      <th>uc2</th>\n",
       "      <th>uc3</th>\n",
       "      <th>ratingScore</th>\n",
       "      <th>finalScore</th>\n",
       "    </tr>\n",
       "  </thead>\n",
       "  <tbody>\n",
       "    <tr>\n",
       "      <th>0</th>\n",
       "      <td>7512712.0</td>\n",
       "      <td>1160.0</td>\n",
       "      <td>9.0</td>\n",
       "      <td>15.0</td>\n",
       "      <td>19.0</td>\n",
       "      <td>14.0</td>\n",
       "      <td>2.611145</td>\n",
       "      <td>6026.055727</td>\n",
       "    </tr>\n",
       "    <tr>\n",
       "      <th>0</th>\n",
       "      <td>7512702.0</td>\n",
       "      <td>1150.0</td>\n",
       "      <td>-1.0</td>\n",
       "      <td>5.0</td>\n",
       "      <td>9.0</td>\n",
       "      <td>4.0</td>\n",
       "      <td>0.883333</td>\n",
       "      <td>5817.416667</td>\n",
       "    </tr>\n",
       "    <tr>\n",
       "      <th>0</th>\n",
       "      <td>7512699.0</td>\n",
       "      <td>1147.0</td>\n",
       "      <td>-4.0</td>\n",
       "      <td>2.0</td>\n",
       "      <td>6.0</td>\n",
       "      <td>1.0</td>\n",
       "      <td>0.415539</td>\n",
       "      <td>5755.077694</td>\n",
       "    </tr>\n",
       "  </tbody>\n",
       "</table>\n",
       "</div>"
      ],
      "text/plain": [
       "   listingId  priceRent  crimeScore   uc1   uc2   uc3  ratingScore  \\\n",
       "0  7512712.0     1160.0         9.0  15.0  19.0  14.0     2.611145   \n",
       "0  7512702.0     1150.0        -1.0   5.0   9.0   4.0     0.883333   \n",
       "0  7512699.0     1147.0        -4.0   2.0   6.0   1.0     0.415539   \n",
       "\n",
       "    finalScore  \n",
       "0  6026.055727  \n",
       "0  5817.416667  \n",
       "0  5755.077694  "
      ]
     },
     "execution_count": 78,
     "metadata": {},
     "output_type": "execute_result"
    }
   ],
   "source": [
    "# Return top 10 listings\n",
    "output = features.head(10)\n",
    "output"
   ]
  },
  {
   "cell_type": "code",
   "execution_count": null,
   "metadata": {},
   "outputs": [],
   "source": [
    "def score_noSA(feature_vector, weight_vector): # outputs a score for a record\n",
    "    for col in weight_vector.columns:\n",
    "        feature_vector['finalScore'] = feature_vector['finalScore'] + (weight_vector[col] * feature_vector[col]) # weighted sum\n",
    "    return(feature_vector)"
   ]
  }
 ],
 "metadata": {
  "kernelspec": {
   "display_name": "Python 3",
   "language": "python",
   "name": "python3"
  },
  "language_info": {
   "codemirror_mode": {
    "name": "ipython",
    "version": 3
   },
   "file_extension": ".py",
   "mimetype": "text/x-python",
   "name": "python",
   "nbconvert_exporter": "python",
   "pygments_lexer": "ipython3",
   "version": "3.6.5"
  }
 },
 "nbformat": 4,
 "nbformat_minor": 2
}
